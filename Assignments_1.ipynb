{
 "cells": [
  {
   "cell_type": "markdown",
   "id": "da8af15b",
   "metadata": {},
   "source": [
    "# Assignments_1"
   ]
  },
  {
   "cell_type": "markdown",
   "id": "2b2060ca",
   "metadata": {},
   "source": [
    "## Q1. What is the purpose of Python&#39;s OOP?"
   ]
  },
  {
   "cell_type": "markdown",
   "id": "54742a5a",
   "metadata": {},
   "source": [
    "Ans:-\n",
    "Object-Oriented Programming makes the program easy to understand as well as efficient.\n",
    "1. Inheritance is the most important aspect of object-oriented programming, which simulates the real-world concept of inheritance. It specifies that the child object acquires all the properties and behaviors of the parent object.\n",
    "2. Polymorphism contains two words \"poly\" and \"morphs\". Poly means many, and morph means shape. By polymorphism, we understand that one task can be performed in different ways. For example - you have a class animal, and all animals speak. But they speak differently. Here, the \"speak\" behavior is polymorphic in a sense and depends on the animal. So, the abstract \"animal\" concept does not actually \"speak\", but specific animals (like dogs and cats) have a concrete implementation of the action \"speak\".\n",
    "3. Encapsulation is also an essential aspect of object-oriented programming. It is used to restrict access to methods and variables. In encapsulation, code and data are wrapped together within a single unit from being modified by accident.\n",
    "4. Abstraction is used to hide internal details and show only functionalities. Abstracting something means to give names to things so that the name captures the core of what a function or a whole program does."
   ]
  },
  {
   "cell_type": "markdown",
   "id": "bf8764aa",
   "metadata": {},
   "source": [
    "## Q2. Where does an inheritance search look for an attribute?"
   ]
  },
  {
   "cell_type": "markdown",
   "id": "bee77c9e",
   "metadata": {},
   "source": [
    "Ans:-\n",
    "An inheritance search looks for an attribute first in the instance object, then in the class the instance was created from, then in all higher superclasses, progressing from left to right (by default). The search stops at the first place the attribute is found."
   ]
  },
  {
   "cell_type": "markdown",
   "id": "08b33995",
   "metadata": {},
   "source": [
    "## Q3. How do you distinguish between a class object and an instance object?"
   ]
  },
  {
   "cell_type": "markdown",
   "id": "d4f4c701",
   "metadata": {},
   "source": [
    "Ans:-\n",
    "Classes are a kind of factory for creating multiple instances. Classes also support operator overloading methods, which instances inherit, and treat any functions nested in the class as methods for processing instances."
   ]
  },
  {
   "cell_type": "markdown",
   "id": "a88ec7ca",
   "metadata": {},
   "source": [
    "## Q4. What makes the first argument in a class’s method function special?"
   ]
  },
  {
   "cell_type": "markdown",
   "id": "9a5a0eea",
   "metadata": {},
   "source": [
    "Ans:-It always receives the instance object that is the implied subject of the method call. It’s usually called ‘self’ by convention."
   ]
  },
  {
   "cell_type": "markdown",
   "id": "81b5b0f4",
   "metadata": {},
   "source": [
    "## Q5. What is the purpose of the __init__ method?"
   ]
  },
  {
   "cell_type": "markdown",
   "id": "880e9c2d",
   "metadata": {},
   "source": [
    "Ans:-If the __init__ method is coded or inherited in a class, Python calls it automatically each time an instance of that class is created.\n",
    "class New():\n",
    "  def \\_\\_init\\_\\_(self, arg1, arg2):\n",
    "    self.first_var = arg1\n",
    "    self.second_var = arg2"
   ]
  },
  {
   "cell_type": "markdown",
   "id": "c0bf023b",
   "metadata": {},
   "source": [
    "## Q6. What is the process for creating a class instance?"
   ]
  },
  {
   "cell_type": "markdown",
   "id": "11da57b4",
   "metadata": {},
   "source": [
    "Ans:-You create a class instance by calling the class name as though it were a function; any arguments passed into the class name show up as arguments two and beyond in the __init__ constructor method.\n",
    "x = ClassName()\n",
    "y = AnotherClass(arg1, arg2)"
   ]
  },
  {
   "cell_type": "markdown",
   "id": "69526dff",
   "metadata": {},
   "source": [
    "## Q7. What is the process for creating a class?"
   ]
  },
  {
   "cell_type": "markdown",
   "id": "f819cb4f",
   "metadata": {},
   "source": [
    "Ans:-\n",
    "class ClassName():\n",
    "  #some code here"
   ]
  },
  {
   "cell_type": "markdown",
   "id": "75bd5606",
   "metadata": {},
   "source": [
    "## Q8. How would you define the superclasses of a class?"
   ]
  },
  {
   "cell_type": "markdown",
   "id": "58045b4e",
   "metadata": {},
   "source": [
    "Ans:-They are classes which are used to inherit from.\n",
    "\n",
    "class Son(Father, Mother):\n",
    "...some code...\n",
    "In this case Father and Mother are superclasses for Son subclass."
   ]
  },
  {
   "cell_type": "code",
   "execution_count": null,
   "id": "10ab79fb",
   "metadata": {},
   "outputs": [],
   "source": []
  }
 ],
 "metadata": {
  "kernelspec": {
   "display_name": "Python 3 (ipykernel)",
   "language": "python",
   "name": "python3"
  },
  "language_info": {
   "codemirror_mode": {
    "name": "ipython",
    "version": 3
   },
   "file_extension": ".py",
   "mimetype": "text/x-python",
   "name": "python",
   "nbconvert_exporter": "python",
   "pygments_lexer": "ipython3",
   "version": "3.9.12"
  }
 },
 "nbformat": 4,
 "nbformat_minor": 5
}
