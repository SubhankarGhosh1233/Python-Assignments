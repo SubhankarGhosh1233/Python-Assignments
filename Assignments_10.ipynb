{
 "cells": [
  {
   "cell_type": "markdown",
   "id": "ce5e5d7c",
   "metadata": {},
   "source": [
    "# Assignments_10"
   ]
  },
  {
   "cell_type": "markdown",
   "id": "ac48cdd1",
   "metadata": {},
   "source": [
    "## Q1. What is the difference between __getattr__ and __getattribute__?"
   ]
  },
  {
   "cell_type": "markdown",
   "id": "360b7bbc",
   "metadata": {},
   "source": [
    "Ans:- The __getattr__ method is run for fetches of undefined attributes only, those not present on an instance and not inherited from any of its classes. By contrast, the __getattribute__ method is called for every attribute fetch, whether the attribute is defined or not. __getattr__ can freely fetch other attributes if they are defined, whereas __getattribute__ must use special code for all such attribute fetches to avoid looping, it must route fetches to a superclass to skip itself."
   ]
  },
  {
   "cell_type": "markdown",
   "id": "6867945d",
   "metadata": {},
   "source": [
    "## Q2. What is the difference between properties and descriptors?"
   ]
  },
  {
   "cell_type": "markdown",
   "id": "9eb2cba0",
   "metadata": {},
   "source": [
    "Ans:- Properties serve a specific role, while descriptors are more general. Properties define get, set, and delete functions for a specific attribute, descriptors provide a class with methods for these actions, too, but they provide extra flexibility to support more arbitrary actions. In fact, properties are really a simple way to create a specific kind of descriptor—one that runs functions on attribute accesses. Coding differs too,a property is created with a built-in function, and a descriptor is coded with a class as such, descriptors can leverage all the usual OOP features of classes, such as inheritance. Moreover, in addition to the instance's state information, descriptors have local state of their own, so they can avoid name collisions in the instance."
   ]
  },
  {
   "cell_type": "markdown",
   "id": "a955fd8f",
   "metadata": {},
   "source": [
    "## Q3. What are the key differences in functionality between __getattr__ and __getattribute__, as well as properties and descriptors?"
   ]
  },
  {
   "cell_type": "markdown",
   "id": "b8c1f7e3",
   "metadata": {},
   "source": [
    "Ans:- The __getattr__ and __getattribute__ methods are more generic. they can be used to catch arbitrarily many attributes. In contrast, each property or descriptor provides access interception for only one specific attribute—we can’t catch every attribute fetch with a single property or descriptor. On the other hand, properties and descriptors handle both attribute fetch and assignment by design. __getattr__ and __getattribute__ handle fetches only, to intercept assignments as well, __setattr__ must also be coded. The implementation is also different. __getattr__ and __getattribute__ are operator overloading methods, whereas properties and descriptors are objects manually assigned to class attributes."
   ]
  },
  {
   "cell_type": "code",
   "execution_count": null,
   "id": "dcfc2241",
   "metadata": {},
   "outputs": [],
   "source": []
  }
 ],
 "metadata": {
  "kernelspec": {
   "display_name": "Python 3 (ipykernel)",
   "language": "python",
   "name": "python3"
  },
  "language_info": {
   "codemirror_mode": {
    "name": "ipython",
    "version": 3
   },
   "file_extension": ".py",
   "mimetype": "text/x-python",
   "name": "python",
   "nbconvert_exporter": "python",
   "pygments_lexer": "ipython3",
   "version": "3.9.12"
  }
 },
 "nbformat": 4,
 "nbformat_minor": 5
}
