{
 "cells": [
  {
   "cell_type": "markdown",
   "id": "717e3b2c",
   "metadata": {},
   "source": [
    "# Assignments_11"
   ]
  },
  {
   "cell_type": "markdown",
   "id": "f7c2a2e0",
   "metadata": {},
   "source": [
    "## Q1. What is the concept of a metaclass?"
   ]
  },
  {
   "cell_type": "markdown",
   "id": "4b1179b4",
   "metadata": {},
   "source": [
    "Ans:- A metaclass is a class whose instances are classes.Normal classes are instances of the type class by default. Metaclasses are usually subclasses of the type class, which redefines class creation protocol methods in order to customize the class creation call issued at the end of a class statement."
   ]
  },
  {
   "cell_type": "markdown",
   "id": "74128e41",
   "metadata": {},
   "source": [
    "## Q2. What is the best way to declare a class&#39;s metaclass?"
   ]
  },
  {
   "cell_type": "markdown",
   "id": "022a337c",
   "metadata": {},
   "source": [
    "Ans:-Use a keyword argument in the class header line-  class C(metaclass=M) and also use a class attribute instead-   __metaclass__= M. In Python 3, the class header line can also name normal superclasses   before the metaclass keyword argument."
   ]
  },
  {
   "cell_type": "markdown",
   "id": "29cda258",
   "metadata": {},
   "source": [
    "## Q3. How do class decorators overlap with metaclasses for handling classes?"
   ]
  },
  {
   "cell_type": "markdown",
   "id": "de331f91",
   "metadata": {},
   "source": [
    "Ans:-  Because both are automatically triggered at the end of a class statement, class decorators and metaclasses can both be used to manage classes. Decorators rebind a class name to a callable's result and metaclasses route class creation through a callable, but both hooks can be used for similar purposes. To manage classes, decorators simply augment and return the original class objects. Metaclasses augment a class after they create it."
   ]
  },
  {
   "cell_type": "markdown",
   "id": "6bf34d1f",
   "metadata": {},
   "source": [
    "## Q4. How do class decorators overlap with metaclasses for handling instances?"
   ]
  },
  {
   "cell_type": "markdown",
   "id": "24415d34",
   "metadata": {},
   "source": [
    "Ans:- Because both are automatically triggered at the end of a class statement, class decorators and metaclasses can both be used to manage class instances, by inserting a wrapper object to catch instance creation calls. Decorators may rebind the class name to a callable run on instance creation that retains the original class object. Metaclasses can do the same, but they must also create the class object, so their usage is somewhat more complex in this role."
   ]
  },
  {
   "cell_type": "code",
   "execution_count": null,
   "id": "4fdc45a6",
   "metadata": {},
   "outputs": [],
   "source": []
  }
 ],
 "metadata": {
  "kernelspec": {
   "display_name": "Python 3 (ipykernel)",
   "language": "python",
   "name": "python3"
  },
  "language_info": {
   "codemirror_mode": {
    "name": "ipython",
    "version": 3
   },
   "file_extension": ".py",
   "mimetype": "text/x-python",
   "name": "python",
   "nbconvert_exporter": "python",
   "pygments_lexer": "ipython3",
   "version": "3.9.12"
  }
 },
 "nbformat": 4,
 "nbformat_minor": 5
}
