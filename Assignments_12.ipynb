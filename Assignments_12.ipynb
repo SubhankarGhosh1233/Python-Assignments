{
 "cells": [
  {
   "cell_type": "markdown",
   "id": "aba87aa3",
   "metadata": {},
   "source": [
    "# Assignments_12"
   ]
  },
  {
   "cell_type": "markdown",
   "id": "afb301f4",
   "metadata": {},
   "source": [
    "## Q1. Does assigning a value to a string&#39;s indexed character violate Python&#39;s string immutability?"
   ]
  },
  {
   "cell_type": "markdown",
   "id": "177266a1",
   "metadata": {},
   "source": [
    "Ans:- The string itself is immutable but the label can change. Assigning a new value to an existing variable is perfectly valid. Python does not have constants. This is independent from data type mutability."
   ]
  },
  {
   "cell_type": "markdown",
   "id": "f077e99e",
   "metadata": {},
   "source": [
    "## Q2. Does using the += operator to concatenate strings violate Python&#39;s string immutability? Why or why not?"
   ]
  },
  {
   "cell_type": "markdown",
   "id": "49a48bb8",
   "metadata": {},
   "source": [
    "Ans:-  With += on immutable objects, the old and new values are supposed to have a briefly overlapping lifetime while the new value has been created, but not yet assigned to the variable, so the new value can't be created in the old object's memory. "
   ]
  },
  {
   "cell_type": "markdown",
   "id": "c3560b2b",
   "metadata": {},
   "source": [
    "## Q3. In Python, how many different ways are there to index a character?"
   ]
  },
  {
   "cell_type": "markdown",
   "id": "1deaf91a",
   "metadata": {},
   "source": [
    "Ans:- There are two ways to index a character. first accessing Characters by Positive Index Number,second,Accessing Characters by Negative Index Number."
   ]
  },
  {
   "cell_type": "markdown",
   "id": "b9f06b01",
   "metadata": {},
   "source": [
    "## Q4. What is the relationship between indexing and slicing?"
   ]
  },
  {
   "cell_type": "markdown",
   "id": "fa0ee84f",
   "metadata": {},
   "source": [
    "Ans:- Slicing is indexing syntax that is extracted by user.Indexing means referring to an element of an iterable by its position within the iterable. Slicing means getting a subset of elements from an iterable based on their indices."
   ]
  },
  {
   "cell_type": "markdown",
   "id": "944db60e",
   "metadata": {},
   "source": [
    "## Q5. What is an indexed character&#39;s exact data type? What is the data form of a slicing-generated substring?"
   ]
  },
  {
   "cell_type": "markdown",
   "id": "8eff9809",
   "metadata": {},
   "source": [
    "Ans:- Indexing and slicing are applicable only to sequence data types."
   ]
  },
  {
   "cell_type": "markdown",
   "id": "e48b32b9",
   "metadata": {},
   "source": [
    "## Q6. What is the relationship between string and character &quot;types&quot; in Python?"
   ]
  },
  {
   "cell_type": "markdown",
   "id": "d33e7b20",
   "metadata": {},
   "source": [
    "Ans:- Character represents a single character whereas String can have zero or more characters. So String is an array of character."
   ]
  },
  {
   "cell_type": "markdown",
   "id": "e0282f17",
   "metadata": {},
   "source": [
    "## Q7. Identify at least two operators and one method that allow you to combine one or more smaller strings to create a larger string."
   ]
  },
  {
   "cell_type": "markdown",
   "id": "578c3cef",
   "metadata": {},
   "source": [
    "Ans:-  Two operators are-  plus (\"+\") operator and \" * \".The one method is-   join()  ."
   ]
  },
  {
   "cell_type": "markdown",
   "id": "cc183729",
   "metadata": {},
   "source": [
    "## Q8. What is the benefit of first checking the target string with in or not in before using the index method to find a substring?"
   ]
  },
  {
   "cell_type": "markdown",
   "id": "8e15829b",
   "metadata": {},
   "source": [
    "Ans:- index() method helps you find the index position of an element or an item in a string of characters or a list of items. It spits out the lowest possible index of the specified element in the list. In case the specified item does not exist in the list, a ValueError is returned."
   ]
  },
  {
   "cell_type": "markdown",
   "id": "cdaaee60",
   "metadata": {},
   "source": [
    "## Q9. Which operators and built-in string methods produce simple Boolean (true/false) results?"
   ]
  },
  {
   "cell_type": "markdown",
   "id": "c884622c",
   "metadata": {},
   "source": [
    "Ans:- True , False , not , and , and or are the only built-in Python Boolean operators.Built-in string methods- str.isalnum(), str.isalpha(), str.islower(), str.isnumeric(), str.isspace(), str.istitle(), str.isupper() ."
   ]
  },
  {
   "cell_type": "code",
   "execution_count": null,
   "id": "3c66479d",
   "metadata": {},
   "outputs": [],
   "source": []
  }
 ],
 "metadata": {
  "kernelspec": {
   "display_name": "Python 3 (ipykernel)",
   "language": "python",
   "name": "python3"
  },
  "language_info": {
   "codemirror_mode": {
    "name": "ipython",
    "version": 3
   },
   "file_extension": ".py",
   "mimetype": "text/x-python",
   "name": "python",
   "nbconvert_exporter": "python",
   "pygments_lexer": "ipython3",
   "version": "3.9.12"
  }
 },
 "nbformat": 4,
 "nbformat_minor": 5
}
