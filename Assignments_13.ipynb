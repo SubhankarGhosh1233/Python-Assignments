{
 "cells": [
  {
   "cell_type": "markdown",
   "id": "3abe00ee",
   "metadata": {},
   "source": [
    "# Assignments_13"
   ]
  },
  {
   "cell_type": "markdown",
   "id": "2812e6ac",
   "metadata": {},
   "source": [
    "### Q1. Can you create a programme or function that employs both positive and negative indexing? Is there any repercussion if you do so?"
   ]
  },
  {
   "cell_type": "markdown",
   "id": "6f629078",
   "metadata": {},
   "source": [
    "Ans:- This means you can use both positive and negative indexes to access iterables."
   ]
  },
  {
   "cell_type": "markdown",
   "id": "de2108a7",
   "metadata": {},
   "source": [
    "### Q2. What is the most effective way of starting with 1,000 elements in a Python list? Assume that all elements should be set to the same value."
   ]
  },
  {
   "cell_type": "markdown",
   "id": "9e36957c",
   "metadata": {},
   "source": [
    "Ans:- multiplication operator"
   ]
  },
  {
   "cell_type": "code",
   "execution_count": 1,
   "id": "66853181",
   "metadata": {},
   "outputs": [
    {
     "name": "stdout",
     "output_type": "stream",
     "text": [
      "[1000, 1000, 1000, 1000, 1000, 1000, 1000, 1000, 1000, 1000]\n"
     ]
    }
   ],
   "source": [
    "lists = [1000] * 10\n",
    "print(lists)"
   ]
  },
  {
   "cell_type": "markdown",
   "id": "9d1796b4",
   "metadata": {},
   "source": [
    "### Q3. How do you slice a list to get any other part while missing the rest? (For example, suppose you want to make a new list with the elements first, third, fifth, seventh, and so on.)"
   ]
  },
  {
   "cell_type": "code",
   "execution_count": 2,
   "id": "927c31a8",
   "metadata": {},
   "outputs": [
    {
     "name": "stdout",
     "output_type": "stream",
     "text": [
      "[1, 3, 5, 7, 9, 11]\n"
     ]
    }
   ],
   "source": [
    "mylist = [1, 2, 3, 4, 5, 6, 7, 8, 9,10,11]\n",
    "print(mylist[::2])"
   ]
  },
  {
   "cell_type": "markdown",
   "id": "0786aef4",
   "metadata": {},
   "source": [
    "### Q4. Explain the distinctions between indexing and slicing."
   ]
  },
  {
   "cell_type": "markdown",
   "id": "2e771161",
   "metadata": {},
   "source": [
    "Ans:-\n",
    "1. indexing returns only one item, where slicing returns a new list/tuple.\n",
    "2. An IndexError will be thrown if you attempt to use an index that is too large. Where When used for slicing, out-of-range indexes are handled gently.\n",
    "3. We can assign a single element or an iterable to indexing. Where, When we assign a single element to slicing, we get a TypeError. It will only accept iterables."
   ]
  },
  {
   "cell_type": "markdown",
   "id": "d4043f5c",
   "metadata": {},
   "source": [
    "### Q5. What happens if one of the slicing expression&#39;s indexes is out of range?"
   ]
  },
  {
   "cell_type": "markdown",
   "id": "6676503a",
   "metadata": {},
   "source": [
    "Ans:- we will get the IndexError: list index out of range error."
   ]
  },
  {
   "cell_type": "markdown",
   "id": "b0b146bc",
   "metadata": {},
   "source": [
    "### Q6. If you pass a list to a function, and if you want the function to be able to change the values of the list—so that the list is different after the function returns—what action should you avoid?"
   ]
  },
  {
   "cell_type": "code",
   "execution_count": 3,
   "id": "5d92cffa",
   "metadata": {},
   "outputs": [
    {
     "name": "stdout",
     "output_type": "stream",
     "text": [
      "apple\n",
      "ORANGE\n",
      "cherry\n"
     ]
    }
   ],
   "source": [
    "fruits = [\"apple\", \"banana\", \"cherry\"]\n",
    "def my_function(food):\n",
    "    for x in food:\n",
    "        fruits[1] = \"ORANGE\"    \n",
    "        print(x)\n",
    "\n",
    "my_function(fruits)"
   ]
  },
  {
   "cell_type": "markdown",
   "id": "8c5e90c5",
   "metadata": {},
   "source": [
    "### Q7. What is the concept of an unbalanced matrix?"
   ]
  },
  {
   "cell_type": "markdown",
   "id": "6d5f38d3",
   "metadata": {},
   "source": [
    "Ans:- Whenever the cost matrix of an assignment problem is not a square matrix, that is, whenever the number of sources is not equal to the number of destinations, called unbalanced matrix."
   ]
  },
  {
   "cell_type": "markdown",
   "id": "d711b05c",
   "metadata": {},
   "source": [
    "### Q8. Why is it necessary to use either list comprehension or a loop to create arbitrarily large matrices?"
   ]
  },
  {
   "cell_type": "markdown",
   "id": "3cef15a1",
   "metadata": {},
   "source": [
    "Ans:- List comprehensions are faster than a  loops to  create arbitrarily large matrices."
   ]
  },
  {
   "cell_type": "code",
   "execution_count": null,
   "id": "4889b574",
   "metadata": {},
   "outputs": [],
   "source": []
  }
 ],
 "metadata": {
  "kernelspec": {
   "display_name": "Python 3 (ipykernel)",
   "language": "python",
   "name": "python3"
  },
  "language_info": {
   "codemirror_mode": {
    "name": "ipython",
    "version": 3
   },
   "file_extension": ".py",
   "mimetype": "text/x-python",
   "name": "python",
   "nbconvert_exporter": "python",
   "pygments_lexer": "ipython3",
   "version": "3.9.12"
  }
 },
 "nbformat": 4,
 "nbformat_minor": 5
}
