{
 "cells": [
  {
   "cell_type": "markdown",
   "id": "5a1cbc65",
   "metadata": {},
   "source": [
    "# Assignments_2"
   ]
  },
  {
   "cell_type": "markdown",
   "id": "d9865d89",
   "metadata": {},
   "source": [
    "## Q1. What is the relationship between classes and modules?"
   ]
  },
  {
   "cell_type": "markdown",
   "id": "6ab0a0b9",
   "metadata": {},
   "source": [
    "Ans:-Modules may be mixed in to classes and other modules. The mixed in module’s constants and methods blend into that class’s own, augmenting the class’s functionality. Classes, however, cannot be mixed in to anything."
   ]
  },
  {
   "cell_type": "markdown",
   "id": "7a566344",
   "metadata": {},
   "source": [
    "## Q2. How do you make instances and classes?"
   ]
  },
  {
   "cell_type": "raw",
   "id": "92132519",
   "metadata": {},
   "source": [
    "A class is a type of blueprint that you can use to make objects. A concrete 'thing' that you constructed using a certain class is an object, which is an instance of a class. So, while the terms 'object' and 'instance' are interchangeable, the term 'instance' refers to an object's relationship to its class.\n",
    "\n",
    "If you look at an example, you'll see what I mean. Let's say you have a class called House. This is an object that belongs to the House class. Another object is your sister's residence (another instance of class House).\n",
    "\n",
    "// Class House describes what a house is\n",
    "class House {\n",
    "    // ...\n",
    "}\n",
    "\n",
    "// You can use class House to create objects (instances of class House)\n",
    "House myHouse = new House();\n",
    "House sistersresidence = new House();\n",
    "The class House defines what a house is, and there are specific, concrete houses that are objects and instances of this class."
   ]
  },
  {
   "cell_type": "markdown",
   "id": "3f8dbf74",
   "metadata": {},
   "source": [
    "## Q3. Where and how should be class attributes created?"
   ]
  },
  {
   "cell_type": "raw",
   "id": "d51b0415",
   "metadata": {},
   "source": [
    "Ans:-Class attributes are the variables defined directly in the class that are shared by all objects of the class.\n",
    "    class Student:\n",
    "    count = 0\n",
    "    def __init__(self):\n",
    "        Student.count += 1                "
   ]
  },
  {
   "cell_type": "markdown",
   "id": "273cd206",
   "metadata": {},
   "source": [
    "## Q4. Where and how are instance attributes created?"
   ]
  },
  {
   "cell_type": "raw",
   "id": "fe09ec0a",
   "metadata": {},
   "source": [
    "Instance attributes are attributes or properties attached to an instance of a clas. Instance attributes\n",
    "are defined in the constructor.\n",
    "Passing Instance Attribute Values in Constructor-\n",
    "    std = Student('Bill',25)\n",
    "    std.name\n",
    "'Bill'\n",
    "    std.age\n",
    "25\n",
    "    std.name = 'Steve'\n",
    "    std.age = 45\n",
    "    std.name\n",
    "'Steve'\n",
    "    std.age\n",
    "45\n"
   ]
  },
  {
   "cell_type": "markdown",
   "id": "296dcba4",
   "metadata": {},
   "source": [
    "## Q5. What does the term &quot;self&quot; in a Python class mean?"
   ]
  },
  {
   "cell_type": "raw",
   "id": "7de7e56e",
   "metadata": {},
   "source": [
    "Ans:-\n",
    "The self parameter is a reference to the current instance of the class, and is used to access variables that belongs to the class.\n",
    "\n",
    "It does not have to be named self , you can call it whatever you like, but it has to be the first parameter of any function in the class."
   ]
  },
  {
   "cell_type": "markdown",
   "id": "34b1a655",
   "metadata": {},
   "source": [
    "## Q6. How does a Python class handle operator overloading?"
   ]
  },
  {
   "cell_type": "raw",
   "id": "7e6ac722",
   "metadata": {},
   "source": [
    "Ans:-Operator Overloading means giving extended meaning beyond their predefined operational meaning. When operator + is used to add two integers as well as join two strings and merge two lists. It is achievable because ‘+’ operator is overloaded by int class and str class."
   ]
  },
  {
   "cell_type": "markdown",
   "id": "c73d2593",
   "metadata": {},
   "source": [
    "## Q7. When do you consider allowing operator overloading of your classes?"
   ]
  },
  {
   "cell_type": "raw",
   "id": "2871c0c1",
   "metadata": {},
   "source": [
    "Ans:-When one or both operands are of a user-defined class or structure type, operator overloading makes it easier to specify user-defined implementation for such operations. This makes user-defined types more similar to the basic primitive data types in terms of behaviour.\n",
    "\n"
   ]
  },
  {
   "cell_type": "markdown",
   "id": "806fed33",
   "metadata": {},
   "source": [
    "## Q8. What is the most popular form of operator overloading?"
   ]
  },
  {
   "cell_type": "markdown",
   "id": "417a6a72",
   "metadata": {},
   "source": [
    "Ans:-The most popular form of operator overloading is addition (+) operator.The '+' operator operates on two numbers and the same operator operates on two strings."
   ]
  },
  {
   "cell_type": "markdown",
   "id": "9ed2ba95",
   "metadata": {},
   "source": [
    "## Q9. What are the two most important concepts to grasp in order to comprehend Python OOP code?"
   ]
  },
  {
   "cell_type": "markdown",
   "id": "5b374475",
   "metadata": {},
   "source": [
    "Ans:-The two most important concepts to grasp in order to comprehend Python OOP code are Inheritance and Polymorphism."
   ]
  },
  {
   "cell_type": "code",
   "execution_count": null,
   "id": "fa61ea36",
   "metadata": {},
   "outputs": [],
   "source": []
  }
 ],
 "metadata": {
  "kernelspec": {
   "display_name": "Python 3 (ipykernel)",
   "language": "python",
   "name": "python3"
  },
  "language_info": {
   "codemirror_mode": {
    "name": "ipython",
    "version": 3
   },
   "file_extension": ".py",
   "mimetype": "text/x-python",
   "name": "python",
   "nbconvert_exporter": "python",
   "pygments_lexer": "ipython3",
   "version": "3.9.12"
  }
 },
 "nbformat": 4,
 "nbformat_minor": 5
}
