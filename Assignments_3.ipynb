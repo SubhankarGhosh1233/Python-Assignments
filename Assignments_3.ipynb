{
 "cells": [
  {
   "cell_type": "markdown",
   "id": "6eb40231",
   "metadata": {},
   "source": [
    "# Assignment_3"
   ]
  },
  {
   "cell_type": "markdown",
   "id": "99c75f25",
   "metadata": {},
   "source": [
    "# 1. What is the concept of an abstract superclass?"
   ]
  },
  {
   "cell_type": "markdown",
   "id": "970b5f49",
   "metadata": {},
   "source": [
    "Ans:- An abstract superclass is a way to provide re-usable code.we can extend the abstract class and inherit the code. This is sometimes more convenient than using static methods or object composition to share code."
   ]
  },
  {
   "cell_type": "markdown",
   "id": "d599bbc4",
   "metadata": {},
   "source": [
    "# 2. What happens when a class statement&#39;s top level contains a basic assignment statement?"
   ]
  },
  {
   "cell_type": "markdown",
   "id": "cdfc54c5",
   "metadata": {},
   "source": [
    "Ans:- When a class statement's top level contains a basic assignment statement, it is like a class attribute and this impact on all the instances of this class. "
   ]
  },
  {
   "cell_type": "markdown",
   "id": "9f7a14ba",
   "metadata": {},
   "source": [
    "## 3. Why does a class need to manually call a superclass&#39;s __init__ method?"
   ]
  },
  {
   "cell_type": "markdown",
   "id": "9d3ed24a",
   "metadata": {},
   "source": [
    "Ans:- superclass's init method allow us to overridden in sub-Class,so class need to manually call a superclass's init method."
   ]
  },
  {
   "cell_type": "markdown",
   "id": "7cb7e540",
   "metadata": {},
   "source": [
    "## 4. How can you augment, instead of completely replacing, an inherited method?"
   ]
  },
  {
   "cell_type": "markdown",
   "id": "8dc4512f",
   "metadata": {},
   "source": [
    "Ans:- To augment inserted of completely replacing an inherited method ,redefine it in a subclass, but call back to the superclass's version of the method manually from the new version of the method in the subclass. That is pass the self instance to the superclass's version of the method manually. Superclass.method(self, ...)."
   ]
  },
  {
   "cell_type": "markdown",
   "id": "20570526",
   "metadata": {},
   "source": [
    "## 5. How is the local scope of a class different from that of a function?"
   ]
  },
  {
   "cell_type": "markdown",
   "id": "370b814e",
   "metadata": {},
   "source": [
    "Ans:- Local scope just refers to the scope available to a given variable, but function scope would refer to variables inside a function."
   ]
  },
  {
   "cell_type": "code",
   "execution_count": null,
   "id": "4c436003",
   "metadata": {},
   "outputs": [],
   "source": []
  }
 ],
 "metadata": {
  "kernelspec": {
   "display_name": "Python 3 (ipykernel)",
   "language": "python",
   "name": "python3"
  },
  "language_info": {
   "codemirror_mode": {
    "name": "ipython",
    "version": 3
   },
   "file_extension": ".py",
   "mimetype": "text/x-python",
   "name": "python",
   "nbconvert_exporter": "python",
   "pygments_lexer": "ipython3",
   "version": "3.9.12"
  }
 },
 "nbformat": 4,
 "nbformat_minor": 5
}
