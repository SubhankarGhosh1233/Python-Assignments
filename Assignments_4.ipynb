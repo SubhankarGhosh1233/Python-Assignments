{
 "cells": [
  {
   "cell_type": "markdown",
   "id": "6acfb9d7",
   "metadata": {},
   "source": [
    "# Assignments_4"
   ]
  },
  {
   "cell_type": "markdown",
   "id": "9aac00f9",
   "metadata": {},
   "source": [
    "## Q1. Which two operator overloading methods can you use in your classes to support iteration?"
   ]
  },
  {
   "cell_type": "markdown",
   "id": "0bd75e7b",
   "metadata": {},
   "source": [
    "Ans:- Classes can support iteration by defining or inheriting  __grtitem__ or __iter__ . In all iteration contexts, Python tries to use  __iter__ ,which returns an object that supports the iterarion protocol with a next method. If no __iter__ is found by inheritance search, Python falls back on the __getitem__ indexing method which is called repeatedly, with successively higher indexes."
   ]
  },
  {
   "cell_type": "markdown",
   "id": "3df283d3",
   "metadata": {},
   "source": [
    "## Q2. In what contexts do the two operator overloading methods manage printing?"
   ]
  },
  {
   "cell_type": "markdown",
   "id": "b82c6415",
   "metadata": {},
   "source": [
    "Ans:-  __str__ and __repr__ methods is used to do the two operator overloading methods manage printing."
   ]
  },
  {
   "cell_type": "markdown",
   "id": "7c24f970",
   "metadata": {},
   "source": [
    "## Q3. In a class, how do you intercept slice operations?"
   ]
  },
  {
   "cell_type": "markdown",
   "id": "9617985d",
   "metadata": {},
   "source": [
    "Ans:- Slicing is caught by the __getitem__ indexing method, it is called with a slice object, instead of a simple index."
   ]
  },
  {
   "cell_type": "markdown",
   "id": "b9d8767e",
   "metadata": {},
   "source": [
    "## Q4. In a class, how do you capture in-place addition?"
   ]
  },
  {
   "cell_type": "markdown",
   "id": "51e20846",
   "metadata": {},
   "source": [
    "Ans:- __iadd__ and __add__ are used to capture in-place addition.Also __radd__ method able to do right-side addition."
   ]
  },
  {
   "cell_type": "markdown",
   "id": "a82cd029",
   "metadata": {},
   "source": [
    "## Q5. When is it appropriate to use operator overloading?"
   ]
  },
  {
   "cell_type": "markdown",
   "id": "0576098d",
   "metadata": {},
   "source": [
    "Ans:- When a class naturally matches, or we  needs to copy, a built-in type's interfaces then it appropriate to use operator overloading."
   ]
  }
 ],
 "metadata": {
  "kernelspec": {
   "display_name": "Python 3 (ipykernel)",
   "language": "python",
   "name": "python3"
  },
  "language_info": {
   "codemirror_mode": {
    "name": "ipython",
    "version": 3
   },
   "file_extension": ".py",
   "mimetype": "text/x-python",
   "name": "python",
   "nbconvert_exporter": "python",
   "pygments_lexer": "ipython3",
   "version": "3.9.12"
  }
 },
 "nbformat": 4,
 "nbformat_minor": 5
}
