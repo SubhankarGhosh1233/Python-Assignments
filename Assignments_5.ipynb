{
 "cells": [
  {
   "cell_type": "markdown",
   "id": "de576626",
   "metadata": {},
   "source": [
    "# Assignments_5"
   ]
  },
  {
   "cell_type": "markdown",
   "id": "4155947e",
   "metadata": {},
   "source": [
    "## Q1. What is the meaning of multiple inheritance?"
   ]
  },
  {
   "cell_type": "markdown",
   "id": "85e40ab8",
   "metadata": {},
   "source": [
    "Ans:- Multiple inheritance meaning that a class inherits from more than one superclass."
   ]
  },
  {
   "cell_type": "markdown",
   "id": "17d1b9e4",
   "metadata": {},
   "source": [
    "## Q2. What is the concept of delegation?"
   ]
  },
  {
   "cell_type": "markdown",
   "id": "877404f4",
   "metadata": {},
   "source": [
    "Ans:- Delegation means wrapping an object in a proxy class, it gives additional functionality to the wrapped object."
   ]
  },
  {
   "cell_type": "markdown",
   "id": "86fb687b",
   "metadata": {},
   "source": [
    "## Q3. What is the concept of composition?"
   ]
  },
  {
   "cell_type": "markdown",
   "id": "200eb495",
   "metadata": {},
   "source": [
    "Ans:- Composition is a way to build up larger structures with classes."
   ]
  },
  {
   "cell_type": "markdown",
   "id": "14faa30b",
   "metadata": {},
   "source": [
    "## Q4. What are bound methods and how do we use them?"
   ]
  },
  {
   "cell_type": "markdown",
   "id": "49b3802f",
   "metadata": {},
   "source": [
    "Ans:- Bound methods combine an instance and a method function.We can call them without passing in an instance object explicitly because the original instance is still available."
   ]
  },
  {
   "cell_type": "markdown",
   "id": "15c18494",
   "metadata": {},
   "source": [
    "## Q5. What is the purpose of pseudoprivate attributes?"
   ]
  },
  {
   "cell_type": "markdown",
   "id": "65c6c204",
   "metadata": {},
   "source": [
    "Ans:- Pseudoprivate attributes are used to localize names to the enclosing class. "
   ]
  },
  {
   "cell_type": "markdown",
   "id": "78052c3c",
   "metadata": {},
   "source": []
  }
 ],
 "metadata": {
  "kernelspec": {
   "display_name": "Python 3 (ipykernel)",
   "language": "python",
   "name": "python3"
  },
  "language_info": {
   "codemirror_mode": {
    "name": "ipython",
    "version": 3
   },
   "file_extension": ".py",
   "mimetype": "text/x-python",
   "name": "python",
   "nbconvert_exporter": "python",
   "pygments_lexer": "ipython3",
   "version": "3.9.12"
  }
 },
 "nbformat": 4,
 "nbformat_minor": 5
}
