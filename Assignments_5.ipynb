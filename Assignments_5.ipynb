{
 "cells": [
  {
   "cell_type": "markdown",
   "id": "25c7ff61",
   "metadata": {},
   "source": [
    "# Assignments_5"
   ]
  },
  {
   "cell_type": "markdown",
   "id": "419107a4",
   "metadata": {},
   "source": [
    "## Q1. What is the meaning of multiple inheritance?"
   ]
  },
  {
   "cell_type": "markdown",
   "id": "f3574215",
   "metadata": {},
   "source": [
    "Ans:- Multiple inheritance meaning that a class inherits from more than one superclass."
   ]
  },
  {
   "cell_type": "markdown",
   "id": "5c565dbd",
   "metadata": {},
   "source": [
    "## Q2. What is the concept of delegation?"
   ]
  },
  {
   "cell_type": "markdown",
   "id": "f2aa0ae8",
   "metadata": {},
   "source": [
    "Ans:- Delegation means wrapping an object in a proxy class, it gives additional functionality to the wrapped object."
   ]
  },
  {
   "cell_type": "markdown",
   "id": "3d93d6b4",
   "metadata": {},
   "source": [
    "## Q3. What is the concept of composition?"
   ]
  },
  {
   "cell_type": "markdown",
   "id": "2dbadc10",
   "metadata": {},
   "source": [
    "Ans:- Composition is a way to build up larger structures with classes."
   ]
  },
  {
   "cell_type": "markdown",
   "id": "d63c7a17",
   "metadata": {},
   "source": [
    "## Q4. What are bound methods and how do we use them?"
   ]
  },
  {
   "cell_type": "markdown",
   "id": "d97aa2c6",
   "metadata": {},
   "source": [
    "Ans:- Bound methods combine an instance and a method function.We can call them without passing in an instance object explicitly because the original instance is still available."
   ]
  },
  {
   "cell_type": "markdown",
   "id": "3740de97",
   "metadata": {},
   "source": [
    "## Q5. What is the purpose of pseudoprivate attributes?"
   ]
  },
  {
   "cell_type": "markdown",
   "id": "2c3c491b",
   "metadata": {},
   "source": [
    "Ans:- Pseudoprivate attributes are used to localize names to the enclosing class. "
   ]
  },
  {
   "cell_type": "code",
   "execution_count": null,
   "id": "f0ca3ee6",
   "metadata": {},
   "outputs": [],
   "source": []
  }
 ],
 "metadata": {
  "kernelspec": {
   "display_name": "Python 3 (ipykernel)",
   "language": "python",
   "name": "python3"
  },
  "language_info": {
   "codemirror_mode": {
    "name": "ipython",
    "version": 3
   },
   "file_extension": ".py",
   "mimetype": "text/x-python",
   "name": "python",
   "nbconvert_exporter": "python",
   "pygments_lexer": "ipython3",
   "version": "3.9.12"
  }
 },
 "nbformat": 4,
 "nbformat_minor": 5
}
