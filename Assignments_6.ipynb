{
 "cells": [
  {
   "cell_type": "markdown",
   "id": "634fc2e3",
   "metadata": {},
   "source": [
    "# Assignments_6"
   ]
  },
  {
   "cell_type": "markdown",
   "id": "44effd23",
   "metadata": {},
   "source": [
    "## Q1. Describe three applications for exception processing."
   ]
  },
  {
   "cell_type": "markdown",
   "id": "f9fdb384",
   "metadata": {},
   "source": [
    "Ans:- Exception processing improved program reliability from preventing incorrect result,it simplified error handling,Python interpreter prints a traceback that shows the exact location where the exception occurred. "
   ]
  },
  {
   "cell_type": "markdown",
   "id": "cb3ecce4",
   "metadata": {},
   "source": [
    "## Q2. What happens if you don&#39;t do something extra to treat an exception?"
   ]
  },
  {
   "cell_type": "markdown",
   "id": "28847800",
   "metadata": {},
   "source": [
    "Ans:- The program shuts down and the code past the line that caused the exception will not get executed."
   ]
  },
  {
   "cell_type": "markdown",
   "id": "edb96957",
   "metadata": {},
   "source": [
    "## Q3. What are your options for recovering from an exception in your script?"
   ]
  },
  {
   "cell_type": "markdown",
   "id": "abdbaad1",
   "metadata": {},
   "source": [
    "Ans:- The try and except statements are used to recovering from an exception in your script."
   ]
  },
  {
   "cell_type": "markdown",
   "id": "5b2170ea",
   "metadata": {},
   "source": [
    "## Q4. Describe two methods for triggering exceptions in your script."
   ]
  },
  {
   "cell_type": "markdown",
   "id": "13a5aba7",
   "metadata": {},
   "source": [
    "Ans:- The raise and assert statements can be used to trigger an exception."
   ]
  },
  {
   "cell_type": "markdown",
   "id": "655d2a73",
   "metadata": {},
   "source": [
    "## Q5. Identify two methods for specifying actions to be executed at termination time, regardless of whether or not an exception exists."
   ]
  },
  {
   "cell_type": "markdown",
   "id": "3867b36d",
   "metadata": {},
   "source": [
    "Ans:- The try and finally statement can be used to ensure actions are run after a block ofcode exits, regardless of whether it raises an exception or not. The with/as statement can also be used to ensure termination actions are run, but only when processing object types that support it.\n"
   ]
  },
  {
   "cell_type": "code",
   "execution_count": null,
   "id": "53b662ab",
   "metadata": {},
   "outputs": [],
   "source": []
  }
 ],
 "metadata": {
  "kernelspec": {
   "display_name": "Python 3 (ipykernel)",
   "language": "python",
   "name": "python3"
  },
  "language_info": {
   "codemirror_mode": {
    "name": "ipython",
    "version": 3
   },
   "file_extension": ".py",
   "mimetype": "text/x-python",
   "name": "python",
   "nbconvert_exporter": "python",
   "pygments_lexer": "ipython3",
   "version": "3.9.12"
  }
 },
 "nbformat": 4,
 "nbformat_minor": 5
}
