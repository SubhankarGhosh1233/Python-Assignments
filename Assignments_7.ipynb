{
 "cells": [
  {
   "cell_type": "markdown",
   "id": "9dd545ee",
   "metadata": {},
   "source": [
    "# Assignments_7"
   ]
  },
  {
   "cell_type": "markdown",
   "id": "67b0d8f4",
   "metadata": {},
   "source": [
    "## Q1. What is the purpose of the try statement?"
   ]
  },
  {
   "cell_type": "markdown",
   "id": "10615ac6",
   "metadata": {},
   "source": [
    "Ans:- The try statement defines and recovers exceptions that might occur during the block's execution."
   ]
  },
  {
   "cell_type": "markdown",
   "id": "2f73b7f3",
   "metadata": {},
   "source": [
    "## Q2. What are the two most popular try statement variations?"
   ]
  },
  {
   "cell_type": "markdown",
   "id": "aa0bf7b9",
   "metadata": {},
   "source": [
    "Ans:- The two common variations on the try statement are( try-except-else )for catching exceptions and (try-finally) for specifying cleanup actions that must occur whether an exception is raised or not."
   ]
  },
  {
   "cell_type": "markdown",
   "id": "adc74d69",
   "metadata": {},
   "source": [
    "## Q3. What is the purpose of the raise statement?"
   ]
  },
  {
   "cell_type": "markdown",
   "id": "6b4c7050",
   "metadata": {},
   "source": [
    "Ans:- The raise statement raises a specific exception."
   ]
  },
  {
   "cell_type": "markdown",
   "id": "3402d3b9",
   "metadata": {},
   "source": [
    "## Q4. What does the assert statement do, and what other statement is it like?"
   ]
  },
  {
   "cell_type": "markdown",
   "id": "bed0d7c8",
   "metadata": {},
   "source": [
    "Ans:- The assert statement raises an AssertionError exception if a condition is false. It works like a conditional raise statement wrapped up in an if statement."
   ]
  },
  {
   "cell_type": "markdown",
   "id": "a5c4dfcd",
   "metadata": {},
   "source": [
    "## Q5. What is the purpose of the with/as argument, and what other statement is it like?"
   ]
  },
  {
   "cell_type": "markdown",
   "id": "247fb246",
   "metadata": {},
   "source": [
    "Ans:- The with/as argument is designed to automate startup and termination activities that must occur around a block of code. It is roughly like a try/finally statement in that its exit actions run whether an exception occurred or not, but it allows a richer object-based protocol for specifying entry and exit actions. "
   ]
  },
  {
   "cell_type": "code",
   "execution_count": null,
   "id": "97fa599f",
   "metadata": {},
   "outputs": [],
   "source": []
  }
 ],
 "metadata": {
  "kernelspec": {
   "display_name": "Python 3 (ipykernel)",
   "language": "python",
   "name": "python3"
  },
  "language_info": {
   "codemirror_mode": {
    "name": "ipython",
    "version": 3
   },
   "file_extension": ".py",
   "mimetype": "text/x-python",
   "name": "python",
   "nbconvert_exporter": "python",
   "pygments_lexer": "ipython3",
   "version": "3.9.12"
  }
 },
 "nbformat": 4,
 "nbformat_minor": 5
}
