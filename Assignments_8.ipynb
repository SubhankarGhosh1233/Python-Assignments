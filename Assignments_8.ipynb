{
 "cells": [
  {
   "cell_type": "markdown",
   "id": "53c300c9",
   "metadata": {},
   "source": [
    "# Assignments_8"
   ]
  },
  {
   "cell_type": "markdown",
   "id": "799ad6b8",
   "metadata": {},
   "source": [
    "## Q1. What are the two latest user-defined exception constraints in Python 3.X?"
   ]
  },
  {
   "cell_type": "markdown",
   "id": "ca5d31a6",
   "metadata": {},
   "source": [
    "Ans:- In 3.X, exceptions must be defined by classes, exception classes must be derived from the built-in class BaseException."
   ]
  },
  {
   "cell_type": "markdown",
   "id": "61aafa19",
   "metadata": {},
   "source": [
    "## Q2. How are class-based exceptions that have been raised matched to handlers?"
   ]
  },
  {
   "cell_type": "markdown",
   "id": "569163a5",
   "metadata": {},
   "source": [
    "Ans:-  Class-based exceptions match by superclass relationships: naming a superclass in an exception handler will catch instances of that class, as well as instances of any of its subclasses lower in the class tree."
   ]
  },
  {
   "cell_type": "markdown",
   "id": "1cf87b97",
   "metadata": {},
   "source": [
    "## Q3. Describe two methods for attaching context information to exception artefacts."
   ]
  },
  {
   "cell_type": "markdown",
   "id": "15f31186",
   "metadata": {},
   "source": [
    "Ans:-  You can attach context information to class-based exceptions by filling out instance attributes in the instance object raised, usually in a custom class constructor. For simpler needs, built-in exception superclasses provide a constructor that stores its arguments on the instance automatically. In exception handlers, you list a variable to be assigned to the raised instance, then go through this name to access attached state information and call any methods defined in the class."
   ]
  },
  {
   "cell_type": "markdown",
   "id": "e3b055e4",
   "metadata": {},
   "source": [
    "## Q4. Describe two methods for specifying the text of an exception object&#39;s error message."
   ]
  },
  {
   "cell_type": "markdown",
   "id": "fe8f7187",
   "metadata": {},
   "source": [
    "Ans:-The error message text in class-based exceptions can be specified with a custom __str__ operator overloading method. . Operations like print and str automatically fetch the display string of an exception object."
   ]
  },
  {
   "cell_type": "markdown",
   "id": "2f713a61",
   "metadata": {},
   "source": [
    "## Q5. Why do you no longer use string-based exceptions?"
   ]
  },
  {
   "cell_type": "markdown",
   "id": "e294a19c",
   "metadata": {},
   "source": [
    "Ans:- String-based exceptions did not support categories, state information, or behavior inheritance in the way class-based exceptions do. "
   ]
  },
  {
   "cell_type": "code",
   "execution_count": null,
   "id": "aacbaa2e",
   "metadata": {},
   "outputs": [],
   "source": []
  }
 ],
 "metadata": {
  "kernelspec": {
   "display_name": "Python 3 (ipykernel)",
   "language": "python",
   "name": "python3"
  },
  "language_info": {
   "codemirror_mode": {
    "name": "ipython",
    "version": 3
   },
   "file_extension": ".py",
   "mimetype": "text/x-python",
   "name": "python",
   "nbconvert_exporter": "python",
   "pygments_lexer": "ipython3",
   "version": "3.9.12"
  }
 },
 "nbformat": 4,
 "nbformat_minor": 5
}
