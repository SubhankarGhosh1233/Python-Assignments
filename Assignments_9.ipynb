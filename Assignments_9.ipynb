{
 "cells": [
  {
   "cell_type": "markdown",
   "id": "12c81d07",
   "metadata": {},
   "source": [
    "# Assignments_9"
   ]
  },
  {
   "cell_type": "markdown",
   "id": "5063b7f0",
   "metadata": {},
   "source": [
    "## Q1. In Python 3.X, what are the names and functions of string object types?"
   ]
  },
  {
   "cell_type": "markdown",
   "id": "61a66cc2",
   "metadata": {},
   "source": [
    "Ans:- str for representing Unicode text, bytes for representing binary data and  bytearray, a mutable flavor of the bytes type are the names and functions of string object types."
   ]
  },
  {
   "cell_type": "markdown",
   "id": "f5286968",
   "metadata": {},
   "source": [
    "## Q2. How do the string forms in Python 3.X vary in terms of operations?"
   ]
  },
  {
   "cell_type": "markdown",
   "id": "980fa0a0",
   "metadata": {},
   "source": [
    "Ans:-  Python 3.X's string types share almost all the same operations. Method calls, sequence operations, and even larger tools like pattern matching work the same way. On the other hand, only str supports string formatting operations, and bytearray has an additional set of operations that perform in-place changes. The str and bytes types also have methods for encoding and decoding text, respectively."
   ]
  },
  {
   "cell_type": "markdown",
   "id": "b08d8808",
   "metadata": {},
   "source": [
    "## Q3. In 3.X, how do you put non-ASCII Unicode characters in a string?"
   ]
  },
  {
   "cell_type": "markdown",
   "id": "31b88ab9",
   "metadata": {},
   "source": [
    "Ans:- Non-ASCII Unicode characters can be coded in a string with both hex (\\xNN) and Unicode (\\uNNNN, \\UNNNNNNNN) escapes. On some keyboards, some non-ASCII characters—certain Latin-1 characters, for example—can also be typed directly."
   ]
  },
  {
   "cell_type": "markdown",
   "id": "00a33d44",
   "metadata": {},
   "source": [
    "## Q4. In Python 3.X, what are the key differences between text-mode and binary-mode files?"
   ]
  },
  {
   "cell_type": "markdown",
   "id": "49a7220b",
   "metadata": {},
   "source": [
    "Ans:- In 3.X, text-mode files assume their file content is Unicode text (even if it's ASCII) and automatically decode when reading and encode when writing. With binarymode files, bytes are transferred to and from the file unchanged. The contents of text-mode files are usually represented as str objects in your script, and the contents of binary files are represented as bytes (or bytearray) objects."
   ]
  },
  {
   "cell_type": "markdown",
   "id": "dd60e3e2",
   "metadata": {},
   "source": [
    "## Q5. How can you interpret a Unicode text file containing text encoded in a different encoding than your platform&#39;s default?"
   ]
  },
  {
   "cell_type": "markdown",
   "id": "0b00dc0b",
   "metadata": {},
   "source": [
    "Ans:- To read files encoded in a different encoding than the default for your platform, simply pass the name of the file's encoding to the open built-in in 3.X (codecs.open() in 2.6); data will be decoded per the specified encoding when it is read from the file. You can also read in binary mode and manually decode the bytes to a string by giving an encoding name, but this involves extra work and is somewhat error-prone for multibyte characters."
   ]
  },
  {
   "cell_type": "markdown",
   "id": "0b7adf61",
   "metadata": {},
   "source": [
    "## Q6. What is the best way to make a Unicode text file in a particular encoding format?"
   ]
  },
  {
   "cell_type": "markdown",
   "id": "5cde0bd2",
   "metadata": {},
   "source": [
    "Ans:- To create a Unicode text file in a specific encoding format, pass the desired encoding name to open in 3.X (codecs.open() in 2.6); strings will be encoded per the desired encoding when they are written to the file. You can also manually encode a string to bytes and write it in binary mode, but this is usually extra work."
   ]
  },
  {
   "cell_type": "markdown",
   "id": "1c29796e",
   "metadata": {},
   "source": [
    "## Q7. What qualifies ASCII text as a form of Unicode text?"
   ]
  },
  {
   "cell_type": "markdown",
   "id": "85aa5b64",
   "metadata": {},
   "source": [
    "Ans:- ASCII text is considered to be a kind of Unicode text, because its 7-bit range of values is a subset of most Unicode encodings."
   ]
  },
  {
   "cell_type": "markdown",
   "id": "f870b1a9",
   "metadata": {},
   "source": [
    "## Q8. How much of an effect does the change in string types in Python 3.X have on your code?"
   ]
  },
  {
   "cell_type": "markdown",
   "id": "d7b1f624",
   "metadata": {},
   "source": [
    "Ans:- The impact of Python 3.X's string types change depends upon the types of strings you use. For scripts that use simple ASCII text, there is probably no impact at all. The str string type works the same in 2.6 and 3.X in this case. Moreover, although string-related tools in the standard library such as re, struct, pickle, and xml may technically use different types in 3.X than in 2.6, the changes are largely irrelevant to most programs because 3.X's str and bytes and 2.6's str support almost identical interfaces. If you process Unicode data, the toolset you need has simply moved from 2.6's unicode and codecs.open() to 3.X's str and open. If you deal with binary data files, you'll need to deal with content as bytes objects; since they have a similar interface to 2.6 strings, though, the impact should again be minimal."
   ]
  },
  {
   "cell_type": "code",
   "execution_count": null,
   "id": "20b0f661",
   "metadata": {},
   "outputs": [],
   "source": []
  }
 ],
 "metadata": {
  "kernelspec": {
   "display_name": "Python 3 (ipykernel)",
   "language": "python",
   "name": "python3"
  },
  "language_info": {
   "codemirror_mode": {
    "name": "ipython",
    "version": 3
   },
   "file_extension": ".py",
   "mimetype": "text/x-python",
   "name": "python",
   "nbconvert_exporter": "python",
   "pygments_lexer": "ipython3",
   "version": "3.9.12"
  }
 },
 "nbformat": 4,
 "nbformat_minor": 5
}
